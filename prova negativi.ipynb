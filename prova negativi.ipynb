{
 "cells": [
  {
   "cell_type": "code",
   "execution_count": 63,
   "id": "e355f204-4b4d-485e-b382-1a6e214ef8a3",
   "metadata": {},
   "outputs": [],
   "source": [
    "import pandas as pd\n",
    "import numpy as np"
   ]
  },
  {
   "cell_type": "code",
   "execution_count": 95,
   "id": "bdbc5cfa-5c66-4921-a0d7-a2bba0f27141",
   "metadata": {},
   "outputs": [],
   "source": [
    "#importazione del dataset originale\n",
    "df = pd.read_csv(\"data.csv\", dtype = {'store_and_fwd_flag': 'category'})\n",
    "df['tpep_pickup_datetime']=pd.to_datetime(df['tpep_pickup_datetime'], format='mixed')\n",
    "df['tpep_dropoff_datetime']=pd.to_datetime(df['tpep_dropoff_datetime'], format='mixed')\n",
    "#rimozione righe null\n",
    "df = df.dropna(subset=['VendorID','passenger_count','store_and_fwd_flag','payment_type'])\n",
    "#creazione colonna per gli intervalli di tempo\n",
    "df['pick_up_intervals'] = ( df['tpep_pickup_datetime'].dt.hour * 60 + df['tpep_pickup_datetime'].dt.minute ) // 30"
   ]
  },
  {
   "cell_type": "code",
   "execution_count": 9,
   "id": "48e058f4-eb09-4760-881e-18461ac17448",
   "metadata": {},
   "outputs": [],
   "source": [
    "#da qui iniziano le modifiche:\n",
    "#si cercano relazioni tra 'fare_amount'<0 e 'tip_amount'"
   ]
  },
  {
   "cell_type": "code",
   "execution_count": null,
   "id": "0cbdbf11-f44c-4f76-8d10-5ac1df4d6741",
   "metadata": {},
   "outputs": [],
   "source": [
    "#1/3) 'tip_amount'<0"
   ]
  },
  {
   "cell_type": "code",
   "execution_count": null,
   "id": "e47395f9-266d-4564-9a0b-4164e99f920e",
   "metadata": {},
   "outputs": [],
   "source": [
    "#quando (tip_amount < 0) => (tutte le colonne legate a prezzi sono <= 0)\n",
    "\n",
    "#per queste righe può aver senso cambiare tutti i valori in positivi\n",
    "#sono solo 170"
   ]
  },
  {
   "cell_type": "code",
   "execution_count": 97,
   "id": "35c774d2-a67f-44a4-b84b-b6693a8edd57",
   "metadata": {},
   "outputs": [
    {
     "data": {
      "text/plain": [
       "170"
      ]
     },
     "execution_count": 97,
     "metadata": {},
     "output_type": "execute_result"
    }
   ],
   "source": [
    "len(df[ (df['fare_amount'] < 0) & (df['tip_amount'] < 0) ])"
   ]
  },
  {
   "cell_type": "code",
   "execution_count": 99,
   "id": "c968b38a-20ae-408b-806f-10839e49a89b",
   "metadata": {},
   "outputs": [
    {
     "data": {
      "text/html": [
       "<div>\n",
       "<style scoped>\n",
       "    .dataframe tbody tr th:only-of-type {\n",
       "        vertical-align: middle;\n",
       "    }\n",
       "\n",
       "    .dataframe tbody tr th {\n",
       "        vertical-align: top;\n",
       "    }\n",
       "\n",
       "    .dataframe thead th {\n",
       "        text-align: right;\n",
       "    }\n",
       "</style>\n",
       "<table border=\"1\" class=\"dataframe\">\n",
       "  <thead>\n",
       "    <tr style=\"text-align: right;\">\n",
       "      <th></th>\n",
       "      <th>fare_amount</th>\n",
       "      <th>extra</th>\n",
       "      <th>mta_tax</th>\n",
       "      <th>tip_amount</th>\n",
       "      <th>tolls_amount</th>\n",
       "      <th>improvement_surcharge</th>\n",
       "      <th>total_amount</th>\n",
       "      <th>congestion_surcharge</th>\n",
       "    </tr>\n",
       "  </thead>\n",
       "  <tbody>\n",
       "    <tr>\n",
       "      <th>17630</th>\n",
       "      <td>-3.5</td>\n",
       "      <td>-0.5</td>\n",
       "      <td>-0.5</td>\n",
       "      <td>-0.80</td>\n",
       "      <td>0.0</td>\n",
       "      <td>-0.3</td>\n",
       "      <td>-5.60</td>\n",
       "      <td>0.0</td>\n",
       "    </tr>\n",
       "    <tr>\n",
       "      <th>82398</th>\n",
       "      <td>-2.5</td>\n",
       "      <td>0.0</td>\n",
       "      <td>-0.5</td>\n",
       "      <td>-0.66</td>\n",
       "      <td>0.0</td>\n",
       "      <td>-0.3</td>\n",
       "      <td>-3.96</td>\n",
       "      <td>0.0</td>\n",
       "    </tr>\n",
       "    <tr>\n",
       "      <th>139505</th>\n",
       "      <td>-2.5</td>\n",
       "      <td>-1.0</td>\n",
       "      <td>-0.5</td>\n",
       "      <td>-0.86</td>\n",
       "      <td>0.0</td>\n",
       "      <td>-0.3</td>\n",
       "      <td>-5.16</td>\n",
       "      <td>0.0</td>\n",
       "    </tr>\n",
       "    <tr>\n",
       "      <th>139507</th>\n",
       "      <td>-2.5</td>\n",
       "      <td>-1.0</td>\n",
       "      <td>-0.5</td>\n",
       "      <td>-0.08</td>\n",
       "      <td>0.0</td>\n",
       "      <td>-0.3</td>\n",
       "      <td>-4.38</td>\n",
       "      <td>0.0</td>\n",
       "    </tr>\n",
       "    <tr>\n",
       "      <th>191332</th>\n",
       "      <td>-8.0</td>\n",
       "      <td>0.0</td>\n",
       "      <td>-0.5</td>\n",
       "      <td>-7.00</td>\n",
       "      <td>0.0</td>\n",
       "      <td>-0.3</td>\n",
       "      <td>-15.80</td>\n",
       "      <td>0.0</td>\n",
       "    </tr>\n",
       "  </tbody>\n",
       "</table>\n",
       "</div>"
      ],
      "text/plain": [
       "        fare_amount  extra  mta_tax  tip_amount  tolls_amount  \\\n",
       "17630          -3.5   -0.5     -0.5       -0.80           0.0   \n",
       "82398          -2.5    0.0     -0.5       -0.66           0.0   \n",
       "139505         -2.5   -1.0     -0.5       -0.86           0.0   \n",
       "139507         -2.5   -1.0     -0.5       -0.08           0.0   \n",
       "191332         -8.0    0.0     -0.5       -7.00           0.0   \n",
       "\n",
       "        improvement_surcharge  total_amount  congestion_surcharge  \n",
       "17630                    -0.3         -5.60                   0.0  \n",
       "82398                    -0.3         -3.96                   0.0  \n",
       "139505                   -0.3         -5.16                   0.0  \n",
       "139507                   -0.3         -4.38                   0.0  \n",
       "191332                   -0.3        -15.80                   0.0  "
      ]
     },
     "execution_count": 99,
     "metadata": {},
     "output_type": "execute_result"
    }
   ],
   "source": [
    "primo_caso = df[df['tip_amount']<0][['fare_amount','extra','mta_tax','tip_amount','tolls_amount','improvement_surcharge','total_amount','congestion_surcharge']]\n",
    "primo_caso.head()"
   ]
  },
  {
   "cell_type": "code",
   "execution_count": null,
   "id": "62e97970-4bf5-4cf2-8526-c64621d7531d",
   "metadata": {},
   "outputs": [],
   "source": [
    "#comando per cambiare di segno le colonne ['tip_amount', 'fare_amount'], quando 'tip_amount'<0"
   ]
  },
  {
   "cell_type": "code",
   "execution_count": 101,
   "id": "27096784-2105-4720-8198-4dd8fb588bf7",
   "metadata": {},
   "outputs": [],
   "source": [
    "df.loc[df['tip_amount'] < 0, ['tip_amount', 'fare_amount']] *= -1"
   ]
  },
  {
   "cell_type": "code",
   "execution_count": null,
   "id": "027954eb-2a15-4e8f-bc5c-0d61bcaa21cc",
   "metadata": {},
   "outputs": [],
   "source": [
    "#2/3) 'tip_amount'>0"
   ]
  },
  {
   "cell_type": "code",
   "execution_count": 103,
   "id": "0b12e7c3-d085-4eb0-bc9f-bbab52c9695e",
   "metadata": {},
   "outputs": [
    {
     "data": {
      "text/plain": [
       "208"
      ]
     },
     "execution_count": 103,
     "metadata": {},
     "output_type": "execute_result"
    }
   ],
   "source": [
    "#un'altra cosa problematica è questa: \n",
    "len( df[ (df['fare_amount'] < 0) & (df['tip_amount'] > 0) ] )\n",
    "\n",
    "#cioè ci sono 208 osservazioni con:\n",
    "#tip POSITIVE e tutte le altre colonne legate a spese NEGATIVE\n",
    "\n",
    "#se prendiamo per vero che anche qui tutti i prezzi dovrebbero essere positivi e sono stati inseriti male per qualche motivo,\n",
    "#si può semplicemente cambiare il segno alle colonne di interesse\n",
    "#(bisognerebbe ricalcolare il total_amount ma sticazzi tanto non serve)"
   ]
  },
  {
   "cell_type": "code",
   "execution_count": 105,
   "id": "52a247ef-2630-4229-9eb2-c2e19421b1b6",
   "metadata": {},
   "outputs": [
    {
     "data": {
      "text/html": [
       "<div>\n",
       "<style scoped>\n",
       "    .dataframe tbody tr th:only-of-type {\n",
       "        vertical-align: middle;\n",
       "    }\n",
       "\n",
       "    .dataframe tbody tr th {\n",
       "        vertical-align: top;\n",
       "    }\n",
       "\n",
       "    .dataframe thead th {\n",
       "        text-align: right;\n",
       "    }\n",
       "</style>\n",
       "<table border=\"1\" class=\"dataframe\">\n",
       "  <thead>\n",
       "    <tr style=\"text-align: right;\">\n",
       "      <th></th>\n",
       "      <th>fare_amount</th>\n",
       "      <th>extra</th>\n",
       "      <th>mta_tax</th>\n",
       "      <th>tip_amount</th>\n",
       "      <th>tolls_amount</th>\n",
       "      <th>improvement_surcharge</th>\n",
       "      <th>total_amount</th>\n",
       "      <th>congestion_surcharge</th>\n",
       "    </tr>\n",
       "  </thead>\n",
       "  <tbody>\n",
       "    <tr>\n",
       "      <th>34639</th>\n",
       "      <td>-27.5</td>\n",
       "      <td>-0.5</td>\n",
       "      <td>-0.5</td>\n",
       "      <td>5.00</td>\n",
       "      <td>0.0</td>\n",
       "      <td>-0.3</td>\n",
       "      <td>-26.30</td>\n",
       "      <td>-2.5</td>\n",
       "    </tr>\n",
       "    <tr>\n",
       "      <th>53091</th>\n",
       "      <td>-70.0</td>\n",
       "      <td>0.0</td>\n",
       "      <td>0.0</td>\n",
       "      <td>14.06</td>\n",
       "      <td>0.0</td>\n",
       "      <td>-0.3</td>\n",
       "      <td>-56.24</td>\n",
       "      <td>0.0</td>\n",
       "    </tr>\n",
       "    <tr>\n",
       "      <th>53093</th>\n",
       "      <td>-70.0</td>\n",
       "      <td>0.0</td>\n",
       "      <td>0.0</td>\n",
       "      <td>14.06</td>\n",
       "      <td>0.0</td>\n",
       "      <td>-0.3</td>\n",
       "      <td>-56.24</td>\n",
       "      <td>0.0</td>\n",
       "    </tr>\n",
       "    <tr>\n",
       "      <th>128011</th>\n",
       "      <td>-62.5</td>\n",
       "      <td>0.0</td>\n",
       "      <td>0.0</td>\n",
       "      <td>15.70</td>\n",
       "      <td>0.0</td>\n",
       "      <td>-0.3</td>\n",
       "      <td>-47.10</td>\n",
       "      <td>0.0</td>\n",
       "    </tr>\n",
       "    <tr>\n",
       "      <th>171300</th>\n",
       "      <td>-20.5</td>\n",
       "      <td>-0.5</td>\n",
       "      <td>-0.5</td>\n",
       "      <td>4.86</td>\n",
       "      <td>0.0</td>\n",
       "      <td>-0.3</td>\n",
       "      <td>-19.44</td>\n",
       "      <td>-2.5</td>\n",
       "    </tr>\n",
       "  </tbody>\n",
       "</table>\n",
       "</div>"
      ],
      "text/plain": [
       "        fare_amount  extra  mta_tax  tip_amount  tolls_amount  \\\n",
       "34639         -27.5   -0.5     -0.5        5.00           0.0   \n",
       "53091         -70.0    0.0      0.0       14.06           0.0   \n",
       "53093         -70.0    0.0      0.0       14.06           0.0   \n",
       "128011        -62.5    0.0      0.0       15.70           0.0   \n",
       "171300        -20.5   -0.5     -0.5        4.86           0.0   \n",
       "\n",
       "        improvement_surcharge  total_amount  congestion_surcharge  \n",
       "34639                    -0.3        -26.30                  -2.5  \n",
       "53091                    -0.3        -56.24                   0.0  \n",
       "53093                    -0.3        -56.24                   0.0  \n",
       "128011                   -0.3        -47.10                   0.0  \n",
       "171300                   -0.3        -19.44                  -2.5  "
      ]
     },
     "execution_count": 105,
     "metadata": {},
     "output_type": "execute_result"
    }
   ],
   "source": [
    "secondo_caso = df[ (df['fare_amount'] < 0) & (df['tip_amount'] > 0) ][['fare_amount','extra','mta_tax','tip_amount','tolls_amount','improvement_surcharge','total_amount','congestion_surcharge']]\n",
    "secondo_caso.head()"
   ]
  },
  {
   "cell_type": "code",
   "execution_count": null,
   "id": "012257f6-be58-4475-9b66-dc86a3692143",
   "metadata": {},
   "outputs": [],
   "source": [
    "#comando per cambiare di segno la colonna ['fare_amount'], quando 'tip_amount'>0 e 'fare_amount'<0"
   ]
  },
  {
   "cell_type": "code",
   "execution_count": 107,
   "id": "af5f016d-c303-46b5-967e-a80b81eb8daf",
   "metadata": {},
   "outputs": [],
   "source": [
    "df.loc[(df['fare_amount'] < 0) & (df['tip_amount'] > 0), ['fare_amount']] *= -1"
   ]
  },
  {
   "cell_type": "code",
   "execution_count": null,
   "id": "027b2964-7ab1-4f64-871b-16f16519afe8",
   "metadata": {},
   "outputs": [],
   "source": [
    "#3/3) 'tip_amount'==0"
   ]
  },
  {
   "cell_type": "code",
   "execution_count": 109,
   "id": "52606ac4-369a-4287-bc8f-e1e8164cdeef",
   "metadata": {},
   "outputs": [
    {
     "data": {
      "text/plain": [
       "19063"
      ]
     },
     "execution_count": 109,
     "metadata": {},
     "output_type": "execute_result"
    }
   ],
   "source": [
    "#l'ultima casistica da indagare è quando fare_amount è < 0 e tip_amount è nullo:\n",
    "len( df[ (df['fare_amount'] < 0) & (df['tip_amount'] == 0) ])\n",
    "#comunque pochissimi rispetto al dataset"
   ]
  },
  {
   "cell_type": "code",
   "execution_count": 115,
   "id": "69ce353d-e6e1-422d-a628-10cf012abfbb",
   "metadata": {},
   "outputs": [
    {
     "data": {
      "text/plain": [
       "19061"
      ]
     },
     "execution_count": 115,
     "metadata": {},
     "output_type": "execute_result"
    }
   ],
   "source": [
    "#rientrano nella casistica 1: hanno quindi tutte le righe dei prezzi negative, \n",
    "#ad eccezione di 2 osservazioni che hanno tutto negativo ma 'extra' > 0, però sono solo due...\n",
    "\n",
    "#infatti, la lunghezza delle righe che hanno 'fare_amount'<0, 'tip_amount'== 0 e tutte le colonne di prezzo <= 0 è molto simile a quel 19063\n",
    "len(df[ (df['fare_amount'] < 0) & \n",
    "        (df['extra'] <= 0) & (df['mta_tax'] <= 0) & \n",
    "        (df['tolls_amount'] <= 0) & (df['improvement_surcharge'] <= 0) & \n",
    "        (df['total_amount'] <= 0) & (df['congestion_surcharge'] <= 0) &\n",
    "        (df['tip_amount'] == 0) ])"
   ]
  },
  {
   "cell_type": "code",
   "execution_count": null,
   "id": "97bec7f5-0806-4136-a1d3-70b5f1800aae",
   "metadata": {},
   "outputs": [],
   "source": [
    "#si può anche qui cambiare il segno di fare_amount"
   ]
  },
  {
   "cell_type": "code",
   "execution_count": 117,
   "id": "61beddc8-4729-4332-a19a-574a6f7deb96",
   "metadata": {},
   "outputs": [],
   "source": [
    "df.loc[(df['fare_amount'] < 0) & (df['tip_amount'] == 0), ['fare_amount']] *= -1"
   ]
  },
  {
   "cell_type": "code",
   "execution_count": null,
   "id": "670418bf-c337-4bf2-bcdb-c674418381cb",
   "metadata": {},
   "outputs": [],
   "source": [
    "#I risultati di media sono ovviamente molto diversi da quelli ottenuti con i valori negativi:"
   ]
  },
  {
   "cell_type": "code",
   "execution_count": 121,
   "id": "07434a67-5215-4d31-8b33-3d5bb74b638c",
   "metadata": {},
   "outputs": [
    {
     "data": {
      "text/plain": [
       "payment_type  pick_up_intervals\n",
       "1.0           0                    13.869142\n",
       "              1                    13.472337\n",
       "              2                    12.824603\n",
       "              3                    12.357974\n",
       "              4                    12.008589\n",
       "                                     ...    \n",
       "4.0           44                   12.017559\n",
       "              45                   14.269400\n",
       "              46                   13.013658\n",
       "              47                   15.210162\n",
       "5.0           35                    0.000000\n",
       "Name: fare_amount, Length: 193, dtype: float64"
      ]
     },
     "execution_count": 121,
     "metadata": {},
     "output_type": "execute_result"
    }
   ],
   "source": [
    "#Testo la Soluzione\n",
    "avg_df = df.groupby(['payment_type','pick_up_intervals'])['fare_amount'].mean()\n",
    "avg_df"
   ]
  },
  {
   "cell_type": "code",
   "execution_count": null,
   "id": "d728c377-0aa9-4b89-af42-d7a022ccb79c",
   "metadata": {},
   "outputs": [],
   "source": []
  }
 ],
 "metadata": {
  "kernelspec": {
   "display_name": "Python 3 (ipykernel)",
   "language": "python",
   "name": "python3"
  },
  "language_info": {
   "codemirror_mode": {
    "name": "ipython",
    "version": 3
   },
   "file_extension": ".py",
   "mimetype": "text/x-python",
   "name": "python",
   "nbconvert_exporter": "python",
   "pygments_lexer": "ipython3",
   "version": "3.12.4"
  }
 },
 "nbformat": 4,
 "nbformat_minor": 5
}
